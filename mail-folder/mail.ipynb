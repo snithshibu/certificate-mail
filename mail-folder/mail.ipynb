import smtplib
import ssl
import csv
from email.mime.multipart import MIMEMultipart
from email.mime.text import MIMEText
from email.mime.base import MIMEBase
from email import encoders
from pathlib import Path

def send_html_certificate_mail(to, from_addr, subject, html_message):
    # SMTP server configuration
    smtp_server = "smtp.gmail.com"
    port = 465  # For SSL
    password = "tensorzmbcet2020"  

    # Create a secure SSL context
    context = ssl.create_default_context()

    try:
        # Open CSV file
        csv_path = Path("list.csv")
        if csv_path.is_file():
            print("csv file is readable")

        with open(csv_path, newline='') as csvfile:
            reader = csv.reader(csvfile)
            for row in reader:
                if len(row) == 2:
                    name = row[0].strip()
                    to = row[1].strip()

                    # Create a multipart message and set headers
                    message = MIMEMultipart()
                    message["From"] = from_addr
                    message["To"] = to
                    message["Subject"] = subject

                    # Read and personalize HTML message
                    html_file_path = Path("sample.html")
                    if html_file_path.is_file():
                        print("html file is readable")
                        with open(html_file_path, "r", encoding="utf-8") as html_file:
                            html_message = html_file.read()
                            html_message = html_message.replace("<#NAME>", name)

                    # Add HTML body to email
                    message.attach(MIMEText(html_message, "html"))

                    # Attach file
                    attachment_path = Path(f"attachments/{to}.png")
                    if attachment_path.is_file():
                        with open(attachment_path, "rb") as attachment:
                            part = MIMEBase("application", "octet-stream")
                            part.set_payload(attachment.read())

                        encoders.encode_base64(part)
                        part.add_header(
                            "Content-Disposition",
                            f"attachment; filename= {attachment_path.name}",
                        )

                        message.attach(part)

                    # Send email
                    with smtplib.SMTP_SSL(smtp_server, port, context=context) as server:
                        server.login(from_addr, password)
                        server.sendmail(from_addr, to, message.as_string())

                    print(f"Sent to {to}")
                else:
                    print(f"Skipping invalid entry: {','.join(row)}")

    except Exception as e:
        print(e)

# Example usage
send_html_certificate_mail(
    to="recipient@example.com",
    from_addr="tensorzclub@mbcet.ac.in",
    subject="Your Certificate",
    html_message=""
)
